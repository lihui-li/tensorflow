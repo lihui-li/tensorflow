{
 "cells": [
  {
   "cell_type": "code",
   "execution_count": 9,
   "metadata": {},
   "outputs": [],
   "source": [
    "import sys\n",
    "import numpy as np\n",
    "sys_is_le = sys.byteorder == 'little'\n",
    "native_code = sys_is_le and '<' or '>'"
   ]
  },
  {
   "cell_type": "code",
   "execution_count": 10,
   "metadata": {},
   "outputs": [],
   "source": [
    "swapped_code = sys_is_le and '>' or '<'"
   ]
  },
  {
   "cell_type": "code",
   "execution_count": 11,
   "metadata": {},
   "outputs": [],
   "source": [
    "native_dt = np.dtype(native_code+'i2')"
   ]
  },
  {
   "cell_type": "code",
   "execution_count": 20,
   "metadata": {},
   "outputs": [],
   "source": [
    "import gzip\n",
    "\n",
    "with gzip.open(\"MNIST_data/train-images-idx3-ubyte.gz\") as bytestream:\n",
    "    dt = np.dtype(np.uint32).newbyteorder('>')\n",
    "    ttt = np.frombuffer(bytestream.read(4), dtype=dt)[0]"
   ]
  },
  {
   "cell_type": "code",
   "execution_count": 21,
   "metadata": {},
   "outputs": [
    {
     "data": {
      "text/plain": [
       "2051"
      ]
     },
     "execution_count": 21,
     "metadata": {},
     "output_type": "execute_result"
    }
   ],
   "source": [
    "ttt"
   ]
  },
  {
   "cell_type": "code",
   "execution_count": 33,
   "metadata": {},
   "outputs": [],
   "source": [
    "#num_images = _read32(bytestream)\n",
    "with gzip.open(\"MNIST_data/train-images-idx3-ubyte.gz\") as bytestream:\n",
    "    dt = np.dtype(np.uint32).newbyteorder('>')\n",
    "    ttt = np.frombuffer(bytestream.read(4), dtype=dt)[0]\n",
    "    \n",
    "    \n",
    "    dt1 = np.dtype(np.uint32).newbyteorder('>')\n",
    "    ttt1 = np.frombuffer(bytestream.read(4), dtype=dt)[0]\n",
    "    \n",
    "    dt2 = np.dtype(np.uint32).newbyteorder('>')\n",
    "    ttt2 = np.frombuffer(bytestream.read(4), dtype=dt)[0]\n",
    "    \n",
    "    dt3 = np.dtype(np.uint32).newbyteorder('>')\n",
    "    ttt3 = np.frombuffer(bytestream.read(4), dtype=dt)[0]\n",
    "    \n",
    "    dt4 = np.dtype(np.uint32).newbyteorder('>')\n",
    "    ttt4 = np.frombuffer(bytestream.read(4), dtype=dt)[0]\n",
    "    \n",
    "    \n",
    "    \n",
    "    \n",
    "    "
   ]
  },
  {
   "cell_type": "code",
   "execution_count": 34,
   "metadata": {},
   "outputs": [
    {
     "data": {
      "text/plain": [
       "(60000, 28, 28, 0)"
      ]
     },
     "execution_count": 34,
     "metadata": {},
     "output_type": "execute_result"
    }
   ],
   "source": [
    "ttt1, ttt2, ttt3, ttt4"
   ]
  },
  {
   "cell_type": "code",
   "execution_count": null,
   "metadata": {},
   "outputs": [],
   "source": []
  }
 ],
 "metadata": {
  "kernelspec": {
   "display_name": "Python 3",
   "language": "python",
   "name": "python3"
  },
  "language_info": {
   "codemirror_mode": {
    "name": "ipython",
    "version": 3
   },
   "file_extension": ".py",
   "mimetype": "text/x-python",
   "name": "python",
   "nbconvert_exporter": "python",
   "pygments_lexer": "ipython3",
   "version": "3.6.10"
  }
 },
 "nbformat": 4,
 "nbformat_minor": 4
}
